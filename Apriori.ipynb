{
  "nbformat": 4,
  "nbformat_minor": 0,
  "metadata": {
    "kernelspec": {
      "name": "python3",
      "display_name": "Python 3"
    },
    "language_info": {
      "codemirror_mode": {
        "name": "ipython",
        "version": 3
      },
      "file_extension": ".py",
      "mimetype": "text/x-python",
      "name": "python",
      "nbconvert_exporter": "python",
      "pygments_lexer": "ipython3",
      "version": "3.6.8"
    },
    "colab": {
      "name": "Mulaga.ipynb",
      "version": "0.3.2",
      "provenance": [],
      "private_outputs": true,
      "machine_shape": "hm",
      "include_colab_link": true
    },
    "accelerator": "GPU"
  },
  "cells": [
    {
      "cell_type": "markdown",
      "metadata": {
        "id": "view-in-github",
        "colab_type": "text"
      },
      "source": [
        "<a href=\"https://colab.research.google.com/github/chiundidza/helloworld/blob/master/Apriori.ipynb\" target=\"_parent\"><img src=\"https://colab.research.google.com/assets/colab-badge.svg\" alt=\"Open In Colab\"/></a>"
      ]
    },
    {
      "cell_type": "code",
      "metadata": {
        "id": "p2ly59VSh61M",
        "colab_type": "code",
        "colab": {}
      },
      "source": [
        "import pandas as pd\n",
        "import matplotlib.pyplot as plt\n",
        "import numpy as np\n",
        "import seaborn as sns"
      ],
      "execution_count": 0,
      "outputs": []
    },
    {
      "cell_type": "code",
      "metadata": {
        "id": "WDfBRKsmh61Z",
        "colab_type": "code",
        "colab": {}
      },
      "source": [
        "from google.colab import files\n",
        "uploaded = files.upload()"
      ],
      "execution_count": 0,
      "outputs": []
    },
    {
      "cell_type": "code",
      "metadata": {
        "id": "2dmr1xvYjfoN",
        "colab_type": "code",
        "colab": {}
      },
      "source": [
        "import io\n",
        "df = pd.read_csv(io.BytesIO(uploaded['Assessment (1).csv']))\n",
        "# Dataset is now stored in a Pandas Dataframe"
      ],
      "execution_count": 0,
      "outputs": []
    },
    {
      "cell_type": "code",
      "metadata": {
        "id": "hnzj3dUah61j",
        "colab_type": "code",
        "colab": {}
      },
      "source": [
        "df.shape"
      ],
      "execution_count": 0,
      "outputs": []
    },
    {
      "cell_type": "code",
      "metadata": {
        "id": "Viks1Khfh61v",
        "colab_type": "code",
        "colab": {}
      },
      "source": [
        "list = df.columns\n",
        "print(list)"
      ],
      "execution_count": 0,
      "outputs": []
    },
    {
      "cell_type": "code",
      "metadata": {
        "id": "ysJDW5eTqXvm",
        "colab_type": "code",
        "colab": {}
      },
      "source": [
        "list = df.columns\n",
        "for i in list:\n",
        "    df[i] = df[i].str.lower()\n",
        "df.head()"
      ],
      "execution_count": 0,
      "outputs": []
    },
    {
      "cell_type": "code",
      "metadata": {
        "id": "2T87lXkdqZYu",
        "colab_type": "code",
        "colab": {}
      },
      "source": [
        "#Understanding the types of responses given in terms of location.\n",
        "df['Where are you currently staying?'].unique()"
      ],
      "execution_count": 0,
      "outputs": []
    },
    {
      "cell_type": "code",
      "metadata": {
        "id": "SBDYrW40qegP",
        "colab_type": "code",
        "colab": {}
      },
      "source": [
        "#Creating a dictionary that maps responses to city names for locations\n",
        "location_to_city = {'prospect waterfalls' : 'harare', \n",
        "                  'budiriro cabs' : 'harare',\n",
        "                   'budiriro' : 'harare',\n",
        "                    'ruwa, zimbabwe' : 'harare',\n",
        "                    'brundish chinhoyi' : 'chinhoyi',\n",
        "                    'chinhoyi university': 'chinhoyi',\n",
        "                    'chinhoyi university of technology': 'chinhoyi',\n",
        "                    'ethiopia, gondar': 'gondar',\n",
        "                    'hatfield. harare': 'harare',\n",
        "                    'chinhoyi in ruvimbo phase 2': 'chinhoyi',\n",
        "                    'westgate': 'harare',\n",
        "                    'mabelreign': 'harare',\n",
        "                    'eastlea': 'harare',\n",
        "                    'waterfalls':'harare',\n",
        "                    'dzivarasekwa': 'harare',\n",
        "                    'goromonzi,mash east ,zimbabwe' : 'goromonzi',\n",
        "                    'chitungwiza,harare': 'chitungwiza',\n",
        "                    'glen view 7' : 'harare',\n",
        "                    'chinhoyi,zimbabwe' : 'chinhoyi',\n",
        "                    'zimbabwe chinhoyi' : 'chinhoyi',\n",
        "                    'mt pleasant' : 'harare',\n",
        "                    'chinhoyi, rujeko' : 'chinhoyi',\n",
        "                    'highfields' : 'harare',\n",
        "                    'chinoyi' : 'chinhoyi',\n",
        "                    'coldstream ' : 'chinhoyi',\n",
        "                    'mabvuku' : 'harare',\n",
        "                    'zimplats turf, mhondoro ngezi' : 'ngezi',\n",
        "                    'kuwadzana' : 'harare',\n",
        "                    'chinhoyo'  : 'chinhoyi',\n",
        "                    'glen lorne harare' : 'harare',\n",
        "                    'borrowdale west' : 'harare',\n",
        "                    'mount pleasant' : 'harare'}"
      ],
      "execution_count": 0,
      "outputs": []
    },
    {
      "cell_type": "code",
      "metadata": {
        "id": "vnXPymG6ql-S",
        "colab_type": "code",
        "colab": {}
      },
      "source": [
        "#Mapping the dictionary to the dataframe and visualising the 1st five rows.\n",
        "df['Where are you currently staying?'] = df['Where are you currently staying?'].map(location_to_city).fillna(df['Where are you currently staying?'])\n",
        "df.head()"
      ],
      "execution_count": 0,
      "outputs": []
    },
    {
      "cell_type": "code",
      "metadata": {
        "id": "9E70WtPSh617",
        "colab_type": "code",
        "colab": {}
      },
      "source": [
        "#Checking for missing values\n",
        "df.isnull().sum()"
      ],
      "execution_count": 0,
      "outputs": []
    },
    {
      "cell_type": "code",
      "metadata": {
        "id": "sXlffjBCh62H",
        "colab_type": "code",
        "colab": {}
      },
      "source": [
        "#Deleting the missing values\n",
        "df.dropna(inplace=True)"
      ],
      "execution_count": 0,
      "outputs": []
    },
    {
      "cell_type": "code",
      "metadata": {
        "id": "-6jbeEf3h62R",
        "colab_type": "code",
        "colab": {}
      },
      "source": [
        "#Representing all categorical columns as numeric\n",
        "from sklearn import preprocessing\n",
        "le = preprocessing.LabelEncoder()\n",
        "df = df.apply(le.fit_transform)"
      ],
      "execution_count": 0,
      "outputs": []
    },
    {
      "cell_type": "code",
      "metadata": {
        "id": "0aV04kdWh63f",
        "colab_type": "code",
        "colab": {}
      },
      "source": [
        "import pandas as pd\n",
        "from mlxtend.preprocessing import TransactionEncoder\n",
        "from mlxtend.frequent_patterns import apriori"
      ],
      "execution_count": 0,
      "outputs": []
    },
    {
      "cell_type": "code",
      "metadata": {
        "id": "o0B7BNzLh63o",
        "colab_type": "code",
        "colab": {}
      },
      "source": [
        "df.head()"
      ],
      "execution_count": 0,
      "outputs": []
    },
    {
      "cell_type": "code",
      "metadata": {
        "id": "0nqksFjkh630",
        "colab_type": "code",
        "colab": {}
      },
      "source": [
        "#Encoding the data for apriori\n",
        "def encode_units(x):\n",
        "    if x <= 0:\n",
        "        return 0\n",
        "    if x >= 1:\n",
        "        return 1\n",
        "\n",
        "df = df.applymap(encode_units)\n"
      ],
      "execution_count": 0,
      "outputs": []
    },
    {
      "cell_type": "code",
      "metadata": {
        "id": "kyFaZWLjh639",
        "colab_type": "code",
        "colab": {}
      },
      "source": [
        "#Implementing Apriori\n",
        "frequent_itemsets = apriori(df, use_colnames=True)"
      ],
      "execution_count": 0,
      "outputs": []
    },
    {
      "cell_type": "code",
      "metadata": {
        "id": "C5bmypcYh64U",
        "colab_type": "code",
        "colab": {}
      },
      "source": [
        "#Printing the first 5 rules\n",
        "frequent_itemsets.head()"
      ],
      "execution_count": 0,
      "outputs": []
    },
    {
      "cell_type": "code",
      "metadata": {
        "id": "M5SOtJcUh64e",
        "colab_type": "code",
        "colab": {}
      },
      "source": [
        "#Selecting items with specified confidence values\n",
        "from mlxtend.frequent_patterns import association_rules\n",
        "\n",
        "rules = association_rules(frequent_itemsets, metric=\"confidence\", min_threshold=0.7)\n",
        "rules.head()"
      ],
      "execution_count": 0,
      "outputs": []
    },
    {
      "cell_type": "code",
      "metadata": {
        "id": "ySuLZKM-o-u9",
        "colab_type": "code",
        "colab": {}
      },
      "source": [
        "#Plotting\n",
        "plt.scatter(rules['antecedents'], rules['confidence'])\n",
        "plt.title('User profiles with minimum confidence = 0.7')\n",
        "plt.xlabel('Profile')\n",
        "plt.ylabel('Confidence')\n",
        "plt.show()"
      ],
      "execution_count": 0,
      "outputs": []
    },
    {
      "cell_type": "code",
      "metadata": {
        "id": "Udzgf9hgh64t",
        "colab_type": "code",
        "colab": {}
      },
      "source": [
        "#Selecting Rules with specified Lift value\n",
        "rules1 = association_rules(frequent_itemsets, metric=\"lift\", min_threshold=1.0)\n",
        "rules1.head()"
      ],
      "execution_count": 0,
      "outputs": []
    },
    {
      "cell_type": "code",
      "metadata": {
        "id": "sDpUUlx-rwWW",
        "colab_type": "code",
        "colab": {}
      },
      "source": [
        "#Plotting\n",
        "plt.scatter(rules1['antecedents'], rules1['lift'])\n",
        "plt.title('User profiles with minimum lift = 1')\n",
        "plt.xlabel('Profile')\n",
        "plt.ylabel('Lift')\n",
        "plt.show()"
      ],
      "execution_count": 0,
      "outputs": []
    },
    {
      "cell_type": "code",
      "metadata": {
        "id": "71Yvhqnwh65G",
        "colab_type": "code",
        "colab": {}
      },
      "source": [
        "#Selecting Rules with specified minimum support values\n",
        "rules2 = association_rules(frequent_itemsets, metric=\"support\", min_threshold=0.14)\n",
        "rules2.head()"
      ],
      "execution_count": 0,
      "outputs": []
    },
    {
      "cell_type": "code",
      "metadata": {
        "id": "v0XBo8aYh65T",
        "colab_type": "code",
        "colab": {}
      },
      "source": [
        "#Plotting\n",
        "plt.scatter(rules2['antecedents'], rules2['support'])\n",
        "plt.title('User profiles with minimum support = 0.14')\n",
        "plt.xlabel('Profile')\n",
        "plt.ylabel('Support')\n",
        "plt.show()"
      ],
      "execution_count": 0,
      "outputs": []
    },
    {
      "cell_type": "code",
      "metadata": {
        "id": "l599nR6MsSjn",
        "colab_type": "code",
        "colab": {}
      },
      "source": [
        "#Drawing a pairgrid to compare group of features with likes\n",
        "g = sns.PairGrid(df,\n",
        "                 x_vars=['What is your income range per month in US$', 'What is your gender ?', 'What is your highest education level'],\n",
        "                 y_vars=['Sports [Sports]', 'Technology [Technology]', 'News [News]', 'Music [Music]', 'Hobbies [Hobbies]', 'Food [Food Types]'])\n",
        "g = g.map(plt.scatter)"
      ],
      "execution_count": 0,
      "outputs": []
    }
  ]
}